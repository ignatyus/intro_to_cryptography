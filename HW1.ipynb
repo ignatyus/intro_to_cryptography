{
 "cells": [
  {
   "cell_type": "code",
   "execution_count": 1,
   "metadata": {},
   "outputs": [],
   "source": [
    "# 1.10"
   ]
  },
  {
   "cell_type": "code",
   "execution_count": 2,
   "metadata": {},
   "outputs": [],
   "source": [
    "d, u, v = xgcd (291, 252);"
   ]
  },
  {
   "cell_type": "code",
   "execution_count": 3,
   "metadata": {},
   "outputs": [
    {
     "name": "stdout",
     "output_type": "stream",
     "text": [
      "3 13 -15\n"
     ]
    }
   ],
   "source": [
    "print (d, u, v); # So, 291*13 - 252*15 = gcd (291, 252) = 3."
   ]
  },
  {
   "cell_type": "code",
   "execution_count": 4,
   "metadata": {},
   "outputs": [],
   "source": [
    "d, u, v = xgcd (16261, 85652);"
   ]
  },
  {
   "cell_type": "code",
   "execution_count": 5,
   "metadata": {},
   "outputs": [
    {
     "name": "stdout",
     "output_type": "stream",
     "text": [
      "161 -79 15\n"
     ]
    }
   ],
   "source": [
    "print (d, u, v); # So, - 16261*79 + 85652*15 = gcd (16261, 85652) = 161."
   ]
  },
  {
   "cell_type": "code",
   "execution_count": 6,
   "metadata": {},
   "outputs": [],
   "source": [
    "d, u, v = xgcd (139024789, 93278890);"
   ]
  },
  {
   "cell_type": "code",
   "execution_count": 7,
   "metadata": {},
   "outputs": [
    {
     "name": "stdout",
     "output_type": "stream",
     "text": [
      "1 6944509 -10350240\n"
     ]
    }
   ],
   "source": [
    "print (d, u, v); # So, 139024789*6944509 - 93278890*10350240 = gcd (139024789, 93278890) = 1."
   ]
  },
  {
   "cell_type": "code",
   "execution_count": 8,
   "metadata": {},
   "outputs": [],
   "source": [
    "d, u, v = xgcd (16534528044, 8332745927);"
   ]
  },
  {
   "cell_type": "code",
   "execution_count": 9,
   "metadata": {},
   "outputs": [
    {
     "name": "stdout",
     "output_type": "stream",
     "text": [
      "43 81440996 -161602003\n"
     ]
    }
   ],
   "source": [
    "print (d, u, v); # So, 16534528044*81440996 - 8332745927*161602003 = gcd (16534528044, 8332745927) = 43."
   ]
  },
  {
   "cell_type": "code",
   "execution_count": 10,
   "metadata": {},
   "outputs": [],
   "source": [
    "# 1.12"
   ]
  },
  {
   "cell_type": "code",
   "execution_count": 11,
   "metadata": {},
   "outputs": [],
   "source": [
    "def newxgcd1 (a,b):\n",
    "    u = 1;\n",
    "    g = a;\n",
    "    x = 0;\n",
    "    y = b;\n",
    "    \n",
    "    while y != 0:\n",
    "        q = g // y;\n",
    "        t = g % y;\n",
    "        s = u - q * x;\n",
    "        u = x;\n",
    "        g = y;\n",
    "        x = s;\n",
    "        y = t;\n",
    "    \n",
    "    if y == 0:\n",
    "        v = (g - a * u) / b;\n",
    "        return (g,u,v);"
   ]
  },
  {
   "cell_type": "code",
   "execution_count": 12,
   "metadata": {},
   "outputs": [],
   "source": [
    "g, u, v = newxgcd1 (527, 1258);"
   ]
  },
  {
   "cell_type": "code",
   "execution_count": 13,
   "metadata": {},
   "outputs": [
    {
     "name": "stdout",
     "output_type": "stream",
     "text": [
      "17 -31 13\n"
     ]
    }
   ],
   "source": [
    "print (g, u, v);"
   ]
  },
  {
   "cell_type": "code",
   "execution_count": 14,
   "metadata": {},
   "outputs": [],
   "source": [
    "g, u, v = newxgcd1 (228, 1056);"
   ]
  },
  {
   "cell_type": "code",
   "execution_count": 15,
   "metadata": {},
   "outputs": [
    {
     "name": "stdout",
     "output_type": "stream",
     "text": [
      "12 -37 8\n"
     ]
    }
   ],
   "source": [
    "print (g, u, v);"
   ]
  },
  {
   "cell_type": "code",
   "execution_count": 16,
   "metadata": {},
   "outputs": [],
   "source": [
    "g, u, v = newxgcd1 (163961, 167181);"
   ]
  },
  {
   "cell_type": "code",
   "execution_count": 17,
   "metadata": {},
   "outputs": [
    {
     "name": "stdout",
     "output_type": "stream",
     "text": [
      "7 4517 -4430\n"
     ]
    }
   ],
   "source": [
    "print (g, u, v);"
   ]
  },
  {
   "cell_type": "code",
   "execution_count": 18,
   "metadata": {},
   "outputs": [],
   "source": [
    "g, u, v = newxgcd1 (3892394, 239847);"
   ]
  },
  {
   "cell_type": "code",
   "execution_count": 19,
   "metadata": {},
   "outputs": [
    {
     "name": "stdout",
     "output_type": "stream",
     "text": [
      "1 59789 -970295\n"
     ]
    }
   ],
   "source": [
    "print (g, u, v);"
   ]
  },
  {
   "cell_type": "code",
   "execution_count": 20,
   "metadata": {},
   "outputs": [],
   "source": [
    "def newxgcd2 (a,b):\n",
    "    u = 1;\n",
    "    g = a;\n",
    "    x = 0;\n",
    "    y = b;\n",
    "    \n",
    "    if b == 0:\n",
    "        v = 0;\n",
    "        return (g,u,v);\n",
    "    \n",
    "    while y != 0:\n",
    "        q = g // y;\n",
    "        t = g % y;\n",
    "        s = u - q * x;\n",
    "        u = x;\n",
    "        g = y;\n",
    "        x = s;\n",
    "        y = t;\n",
    "    \n",
    "    if y == 0:\n",
    "        v = (g - a * u) / b;\n",
    "        return (g,u,v);"
   ]
  },
  {
   "cell_type": "code",
   "execution_count": 21,
   "metadata": {},
   "outputs": [],
   "source": [
    "def newxgcd3 (a,b):\n",
    "    u = 1;\n",
    "    g = a;\n",
    "    x = 0;\n",
    "    y = b;\n",
    "    \n",
    "    if b == 0:\n",
    "        v = 0;\n",
    "        return (g,u,v);\n",
    "    \n",
    "    while y != 0:\n",
    "        q = g // y;\n",
    "        t = g % y;\n",
    "        s = u - q * x;\n",
    "        u = x;\n",
    "        g = y;\n",
    "        x = s;\n",
    "        y = t;\n",
    "    \n",
    "    if y == 0:\n",
    "        v = (g - a * u) / b;\n",
    "        \n",
    "        u0 = u;\n",
    "        v0 = v;\n",
    "        k = 1;\n",
    "        while u < 0:\n",
    "            u = u0 + k * b / g;\n",
    "            v = v0 - k * a / g;\n",
    "            k = k + 1;\n",
    "        return (g,u,v);"
   ]
  },
  {
   "cell_type": "code",
   "execution_count": 22,
   "metadata": {},
   "outputs": [],
   "source": [
    "# 1.26"
   ]
  },
  {
   "cell_type": "code",
   "execution_count": 23,
   "metadata": {},
   "outputs": [],
   "source": [
    "def squaremultiply (N, g, A):\n",
    "    a = g;\n",
    "    b = 1;\n",
    "    while A > 0:\n",
    "        if A % 2 == 1:\n",
    "            b = (b * a) % N;\n",
    "        a = (a * a) % N;\n",
    "        A = A // 2;\n",
    "    return b;"
   ]
  },
  {
   "cell_type": "code",
   "execution_count": 24,
   "metadata": {},
   "outputs": [],
   "source": [
    "result = squaremultiply (256, 17, 183);"
   ]
  },
  {
   "cell_type": "code",
   "execution_count": 25,
   "metadata": {},
   "outputs": [
    {
     "name": "stdout",
     "output_type": "stream",
     "text": [
      "113\n"
     ]
    }
   ],
   "source": [
    "print (result);"
   ]
  },
  {
   "cell_type": "code",
   "execution_count": 26,
   "metadata": {},
   "outputs": [],
   "source": [
    "result = squaremultiply (1000, 2, 477);"
   ]
  },
  {
   "cell_type": "code",
   "execution_count": 27,
   "metadata": {},
   "outputs": [
    {
     "name": "stdout",
     "output_type": "stream",
     "text": [
      "272\n"
     ]
    }
   ],
   "source": [
    "print (result);"
   ]
  },
  {
   "cell_type": "code",
   "execution_count": 28,
   "metadata": {},
   "outputs": [],
   "source": [
    "result = squaremultiply (1237, 11, 507);"
   ]
  },
  {
   "cell_type": "code",
   "execution_count": 29,
   "metadata": {},
   "outputs": [
    {
     "name": "stdout",
     "output_type": "stream",
     "text": [
      "322\n"
     ]
    }
   ],
   "source": [
    "print (result);"
   ]
  },
  {
   "cell_type": "code",
   "execution_count": 30,
   "metadata": {},
   "outputs": [],
   "source": [
    "# 1.34"
   ]
  },
  {
   "cell_type": "code",
   "execution_count": 31,
   "metadata": {},
   "outputs": [],
   "source": [
    "def isPrimitiveRoot (a, p):\n",
    "    r = primitive_root(p);\n",
    "    \n",
    "    i = 1;\n",
    "    candidates = []\n",
    "    while i < p - 1:\n",
    "        if gcd (i, p-1) == 1:\n",
    "            candidates.append(i);      \n",
    "        i += 1;\n",
    "        \n",
    "    roots = [];\n",
    "    for k in candidates:\n",
    "        roots.append (r ** k % p);\n",
    "    \n",
    "    for r in roots:\n",
    "        if r == a:\n",
    "            return True;\n",
    "    \n",
    "    return False;"
   ]
  },
  {
   "cell_type": "code",
   "execution_count": 32,
   "metadata": {},
   "outputs": [
    {
     "name": "stdout",
     "output_type": "stream",
     "text": [
      "True\n"
     ]
    }
   ],
   "source": [
    "a = isPrimitiveRoot (2, 13);\n",
    "print (a);"
   ]
  },
  {
   "cell_type": "code",
   "execution_count": 33,
   "metadata": {},
   "outputs": [
    {
     "name": "stdout",
     "output_type": "stream",
     "text": [
      "True\n"
     ]
    }
   ],
   "source": [
    "a = isPrimitiveRoot (2, 19);\n",
    "print (a);"
   ]
  },
  {
   "cell_type": "code",
   "execution_count": 34,
   "metadata": {},
   "outputs": [
    {
     "name": "stdout",
     "output_type": "stream",
     "text": [
      "False\n"
     ]
    }
   ],
   "source": [
    "a = isPrimitiveRoot (2, 23);\n",
    "print (a);"
   ]
  },
  {
   "cell_type": "code",
   "execution_count": 35,
   "metadata": {},
   "outputs": [
    {
     "name": "stdout",
     "output_type": "stream",
     "text": [
      "True\n"
     ]
    }
   ],
   "source": [
    "a = isPrimitiveRoot (3, 7);\n",
    "print (a);"
   ]
  },
  {
   "cell_type": "code",
   "execution_count": 36,
   "metadata": {},
   "outputs": [
    {
     "name": "stdout",
     "output_type": "stream",
     "text": [
      "False\n"
     ]
    }
   ],
   "source": [
    "a = isPrimitiveRoot (3, 11);\n",
    "print (a);"
   ]
  },
  {
   "cell_type": "code",
   "execution_count": 37,
   "metadata": {},
   "outputs": [
    {
     "name": "stdout",
     "output_type": "stream",
     "text": [
      "True\n"
     ]
    }
   ],
   "source": [
    "a = isPrimitiveRoot (3, 17);\n",
    "print (a);"
   ]
  },
  {
   "cell_type": "code",
   "execution_count": 38,
   "metadata": {},
   "outputs": [
    {
     "name": "stdout",
     "output_type": "stream",
     "text": [
      "5\n"
     ]
    }
   ],
   "source": [
    "root = primitive_root (23);\n",
    "print (root);"
   ]
  },
  {
   "cell_type": "code",
   "execution_count": 39,
   "metadata": {},
   "outputs": [
    {
     "name": "stdout",
     "output_type": "stream",
     "text": [
      "2\n"
     ]
    }
   ],
   "source": [
    "root = primitive_root (29);\n",
    "print (root);"
   ]
  },
  {
   "cell_type": "code",
   "execution_count": 40,
   "metadata": {},
   "outputs": [
    {
     "name": "stdout",
     "output_type": "stream",
     "text": [
      "6\n"
     ]
    }
   ],
   "source": [
    "root = primitive_root (41);\n",
    "print (root);"
   ]
  },
  {
   "cell_type": "code",
   "execution_count": 41,
   "metadata": {},
   "outputs": [
    {
     "name": "stdout",
     "output_type": "stream",
     "text": [
      "3\n"
     ]
    }
   ],
   "source": [
    "root = primitive_root (43);\n",
    "print (root);"
   ]
  },
  {
   "cell_type": "code",
   "execution_count": 42,
   "metadata": {},
   "outputs": [],
   "source": [
    "def allPrimitiveRoots (p):\n",
    "    r = primitive_root(p);\n",
    "    \n",
    "    i = 1;\n",
    "    candidates = []\n",
    "    while i < p - 1:\n",
    "        if gcd (i, p-1) == 1:\n",
    "            candidates.append(i);      \n",
    "        i += 1;\n",
    "        \n",
    "    roots = [];\n",
    "    for k in candidates:\n",
    "        roots.append (r ** k % p);\n",
    "    \n",
    "    return roots;"
   ]
  },
  {
   "cell_type": "code",
   "execution_count": 43,
   "metadata": {},
   "outputs": [
    {
     "name": "stdout",
     "output_type": "stream",
     "text": [
      "[2, 8, 7, 6]\n"
     ]
    }
   ],
   "source": [
    "roots = allPrimitiveRoots (11);\n",
    "print (roots); # φ(10) = 4"
   ]
  },
  {
   "cell_type": "code",
   "execution_count": 44,
   "metadata": {},
   "outputs": [
    {
     "name": "stdout",
     "output_type": "stream",
     "text": [
      "[6, 219, 98, 142, 74, 182, 72, 73, 31, 200, 201, 137, 77, 24, 189, 163, 110, 67, 41, 102, 59, 63, 124, 113, 117, 90, 79, 96, 69, 194, 39, 164, 179, 7, 23, 38, 223, 10, 131, 87, 155, 47, 157, 156, 198, 29, 28, 92, 152, 205, 40, 66, 119, 162, 188, 127, 170, 166, 105, 116, 112, 139, 150, 133, 160, 35, 190, 65, 50, 222, 206, 191]\n"
     ]
    }
   ],
   "source": [
    "roots = allPrimitiveRoots (229);\n",
    "print (roots); # φ(228) = 72"
   ]
  },
  {
   "cell_type": "code",
   "execution_count": null,
   "metadata": {},
   "outputs": [],
   "source": []
  }
 ],
 "metadata": {
  "kernelspec": {
   "display_name": "SageMath 9.1",
   "language": "sage",
   "name": "sagemath"
  },
  "language_info": {
   "codemirror_mode": {
    "name": "ipython",
    "version": 3
   },
   "file_extension": ".py",
   "mimetype": "text/x-python",
   "name": "python",
   "nbconvert_exporter": "python",
   "pygments_lexer": "ipython3",
   "version": "3.7.3"
  }
 },
 "nbformat": 4,
 "nbformat_minor": 2
}
