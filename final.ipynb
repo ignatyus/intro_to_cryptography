{
 "cells": [
  {
   "cell_type": "code",
   "execution_count": 10,
   "metadata": {},
   "outputs": [],
   "source": [
    "\"\"\"\n",
    "7.1 Congruential Public Key Cryptosystem encryption/decryption\n",
    "\"\"\"\n",
    "def CongEnc(q,h,r,m):\n",
    "    e = (r * h + m) % q\n",
    "    return e \n",
    "\n",
    "def CongDec(f,g,q,e):\n",
    "    a = f * e % q\n",
    "    m = a * (f^-1 % g) % g\n",
    "    return m"
   ]
  },
  {
   "cell_type": "code",
   "execution_count": 11,
   "metadata": {},
   "outputs": [
    {
     "data": {
      "text/plain": [
       "18357558717"
      ]
     },
     "execution_count": 11,
     "metadata": {},
     "output_type": "execute_result"
    }
   ],
   "source": [
    "CongEnc( 122430513841, 39245579300, 101010, 123456)"
   ]
  },
  {
   "cell_type": "code",
   "execution_count": 12,
   "metadata": {},
   "outputs": [
    {
     "data": {
      "text/plain": [
       "123456"
      ]
     },
     "execution_count": 12,
     "metadata": {},
     "output_type": "execute_result"
    }
   ],
   "source": [
    "CongDec(231231,195698,122430513841,18357558717 )"
   ]
  },
  {
   "cell_type": "code",
   "execution_count": 40,
   "metadata": {},
   "outputs": [],
   "source": [
    "\"\"\"\n",
    "7.2 Subset Sum Problem\n",
    "\"\"\"\n",
    "def SSP(Set, Sum):\n",
    "    X = []\n",
    "    for i in range(len(Set)-1, -1, -1):\n",
    "        if Sum >= Set[i]:\n",
    "            X.insert(0, 1)\n",
    "            Sum = Sum - Set[i]\n",
    "        else:\n",
    "            X.insert(0, 0)\n",
    "    cSum = 0\n",
    "    for k in range(len(Set)-1, -1, -1):\n",
    "        if X[k] == 1:\n",
    "            cSum = cSum + Set[k]\n",
    "   \n",
    "    return (X, cSum)\n",
    "    \n",
    "        "
   ]
  },
  {
   "cell_type": "code",
   "execution_count": 41,
   "metadata": {},
   "outputs": [
    {
     "data": {
      "text/plain": [
       "([1, 0, 1, 1, 0, 1], 260)"
      ]
     },
     "execution_count": 41,
     "metadata": {},
     "output_type": "execute_result"
    }
   ],
   "source": [
    "set = [3, 7, 19, 43, 89, 195]\n",
    "SSP( set, 260 )"
   ]
  },
  {
   "cell_type": "code",
   "execution_count": 49,
   "metadata": {},
   "outputs": [],
   "source": [
    "\"\"\"\n",
    "7.3 Knapsack Cryptosystems encryption/decryption\n",
    "\"\"\"\n",
    "def KnapEnc(x,M):\n",
    "    S = 0\n",
    "    for i in range (0, len(M)):\n",
    "        S = S + x[i] * M[i]\n",
    "    return S\n",
    "def KnapDec(S, A, B, r):\n",
    "    s = S * (A^-1 % B) % B\n",
    "    return SSP( r, s)\n",
    "    \n"
   ]
  },
  {
   "cell_type": "code",
   "execution_count": null,
   "metadata": {},
   "outputs": [],
   "source": [
    "#7.55\n",
    "M = [81946, 80956, 58407, 51650, 38136, 17032, 39658, 67468, 49203, 9546]\n"
   ]
  },
  {
   "cell_type": "code",
   "execution_count": 51,
   "metadata": {},
   "outputs": [
    {
     "data": {
      "text/plain": [
       "546"
      ]
     },
     "execution_count": 51,
     "metadata": {},
     "output_type": "execute_result"
    }
   ],
   "source": [
    "M = [89, 243, 212, 150, 245]\n",
    "x = [1,0,1,0,1]\n",
    "KnapEnc(x,M)"
   ]
  },
  {
   "cell_type": "code",
   "execution_count": 52,
   "metadata": {},
   "outputs": [
    {
     "data": {
      "text/plain": [
       "([1, 0, 1, 0, 1], 142)"
      ]
     },
     "execution_count": 52,
     "metadata": {},
     "output_type": "execute_result"
    }
   ],
   "source": [
    "r = [3, 11, 24, 50, 115]\n",
    "A = 113\n",
    "B = 250\n",
    "S = 546\n",
    "KnapDec( S, A, B,r )"
   ]
  },
  {
   "cell_type": "code",
   "execution_count": 73,
   "metadata": {},
   "outputs": [
    {
     "name": "stdout",
     "output_type": "stream",
     "text": [
      "[4789, 5583, 7171, 1960, 8312, 644, 6474, 4958, 1926, 3652]\n"
     ]
    },
    {
     "data": {
      "text/plain": [
       "([0, 1, 1, 0, 0, 1, 1, 0, 1, 0], 1483)"
      ]
     },
     "execution_count": 73,
     "metadata": {},
     "output_type": "execute_result"
    }
   ],
   "source": [
    "# 7.3 breaking knapsack\n",
    "r = [3, 7, 15, 31, 63, 130, 265, 532, 1066, 2300]\n",
    "A = 4392\n",
    "B = 8387\n",
    "M =[]\n",
    "for i in range (0, len(r)):\n",
    "    M.append( (A * r[i]) % B )\n",
    "    \n",
    "print (M)\n",
    "KnapDec(21798,A,B, r)"
   ]
  },
  {
   "cell_type": "code",
   "execution_count": 71,
   "metadata": {},
   "outputs": [
    {
     "data": {
      "text/plain": [
       "21798"
      ]
     },
     "execution_count": 71,
     "metadata": {},
     "output_type": "execute_result"
    }
   ],
   "source": [
    "x = [0, 1, 1, 0, 0, 1, 1, 0, 1, 0]\n",
    "KnapEnc(x, M)"
   ]
  },
  {
   "cell_type": "code",
   "execution_count": 72,
   "metadata": {},
   "outputs": [
    {
     "data": {
      "text/plain": [
       "([1, 1, 1, 1, 1, 1, 1, 1, 1, 1], 4412)"
      ]
     },
     "execution_count": 72,
     "metadata": {},
     "output_type": "execute_result"
    }
   ],
   "source": [
    "KnapDec(20225,A,B, r)"
   ]
  },
  {
   "cell_type": "code",
   "execution_count": 88,
   "metadata": {},
   "outputs": [],
   "source": [
    "\"\"\"\n",
    "7.13.1 \n",
    "Question 7.45 \n",
    "SVP small vector problem Gauss’s lattice reduction algorithm\n",
    "\"\"\"\n",
    "def dot(v,w):\n",
    "    return v.dot_product(w)\n",
    "def norm(v):\n",
    "    return sqrt( dot(v,v))\n",
    "\n",
    "def SVP(v1, v2):\n",
    "    for i in range (0, 1000):\n",
    "        if norm(v2) < norm(v1):\n",
    "            v1,v2 = v2,v1\n",
    "        m = round( dot(v1,v2) / dot(v1,v1))\n",
    "        print(m)\n",
    "        if m == 0:\n",
    "            return (v1,v2, i+1)\n",
    "        v2 = v2 - m * v1\n",
    "    "
   ]
  },
  {
   "cell_type": "code",
   "execution_count": 92,
   "metadata": {},
   "outputs": [
    {
     "name": "stdout",
     "output_type": "stream",
     "text": [
      "6\n",
      "8\n",
      "2\n",
      "187\n",
      "-2\n",
      "-2\n",
      "-2\n",
      "-1\n",
      "0\n"
     ]
    },
    {
     "data": {
      "text/plain": [
       "((233444, 255333), (330721, -272507), 9)"
      ]
     },
     "execution_count": 92,
     "metadata": {},
     "output_type": "execute_result"
    }
   ],
   "source": [
    "v1 = vector([1,24201896593]) #(1,h) and (0,q) gives f and g\n",
    "v2 = vector([0,148059109201])\n",
    "SVP(v1,v2)\n",
    "#print(norm(v1), norm(v2))"
   ]
  },
  {
   "cell_type": "code",
   "execution_count": 93,
   "metadata": {},
   "outputs": [
    {
     "data": {
      "text/plain": [
       "186000"
      ]
     },
     "execution_count": 93,
     "metadata": {},
     "output_type": "execute_result"
    }
   ],
   "source": [
    "CongDec(233444, 255333,148059109201, 83493429501)"
   ]
  },
  {
   "cell_type": "code",
   "execution_count": 114,
   "metadata": {},
   "outputs": [
    {
     "data": {
      "text/plain": [
       "[ 1 -1  1  1 -1  1  1  1 -1  1]\n",
       "[ 3  1  1 -1  3  1 -1  1 -1  3]\n",
       "[-2 -2  4 -4 -2  0  2  0  0 -2]\n",
       "[ 2  2  2  4  0 -2 -4  2  0  1]\n",
       "[-2  0  2 -2  4  0  4  2  0  3]\n",
       "[-2 -2  0 -2 -2  0 -4  4  2 -1]\n",
       "[-4  2 -2 -2 -2  4  0  0  2  2]\n",
       "[-2 -2  2 -2  2  0 -4  0 -4 -3]\n",
       "[ 0 -4  4  0  0 -2  0 -4  2  1]\n",
       "[-1 -1 -1 -3 -1 -3  1 -1 -5  2]"
      ]
     },
     "execution_count": 114,
     "metadata": {},
     "output_type": "execute_result"
    }
   ],
   "source": [
    "\"\"\"\n",
    "LLL\n",
    "\"\"\"\n",
    "basis = []\n",
    "M = [81946, 80956, 58407, 51650, 38136, 17032, 39658, 67468, 49203, 9546]\n",
    "S = 168296\n",
    "size = len(M)\n",
    "for i in range (0, size):     \n",
    "    v = []\n",
    "    if i == size-1:\n",
    "        for j in range (0, size):\n",
    "            if j == size-1:\n",
    "                v.append(S)\n",
    "            else:\n",
    "                v.append(1)\n",
    "    else:\n",
    "        for j in range (0, size):\n",
    "            if i == j:\n",
    "                v.append (2)\n",
    "            elif j == size-1:\n",
    "                v.append(M[i])\n",
    "            else:\n",
    "                v.append(0)\n",
    "    basis.append( vector(v))\n",
    "Basis = matrix(basis)\n",
    "Basis.LLL()"
   ]
  },
  {
   "cell_type": "code",
   "execution_count": null,
   "metadata": {},
   "outputs": [],
   "source": []
  },
  {
   "cell_type": "code",
   "execution_count": 15,
   "metadata": {},
   "outputs": [
    {
     "data": {
      "text/plain": [
       "[            4*T1 - 6*T2 + 4*T3 - T4]\n",
       "[-13/3*T1 + 19/2*T2 - 7*T3 + 11/6*T4]\n",
       "[        3/2*T1 - 4*T2 + 7/2*T3 - T4]\n",
       "[ -1/6*T1 + 1/2*T2 - 1/2*T3 + 1/6*T4]"
      ]
     },
     "execution_count": 15,
     "metadata": {},
     "output_type": "execute_result"
    }
   ],
   "source": [
    "matA = matrix([[1,1,1,1],[1,2,4,8],[1,3,9,27],[1,4,16,64]])\n",
    "matB = matrix(SR, 4,1, var('T1', 'T2', 'T3', 'T4'))\n",
    "matA.solve_right(matB)"
   ]
  },
  {
   "cell_type": "code",
   "execution_count": 47,
   "metadata": {},
   "outputs": [
    {
     "name": "stdout",
     "output_type": "stream",
     "text": [
      "25*x + 40\n"
     ]
    }
   ],
   "source": [
    "p=41\n",
    "R.<x>=PolynomialRing(GF(p))\n",
    "points=[(1,24), (2,8)]\n",
    "f=R.lagrange_polynomial(points)\n",
    "print(f)"
   ]
  },
  {
   "cell_type": "code",
   "execution_count": 164,
   "metadata": {},
   "outputs": [
    {
     "data": {
      "text/plain": [
       "42*x^2 + 82*x + 40"
      ]
     },
     "execution_count": 164,
     "metadata": {},
     "output_type": "execute_result"
    }
   ],
   "source": [
    "R = PolynomialRing(QQ, 'x')\n",
    "sage: f = R.lagrange_polynomial([(1,164),(2,372),(3,664)]); f"
   ]
  },
  {
   "cell_type": "code",
   "execution_count": 255,
   "metadata": {},
   "outputs": [],
   "source": [
    "def BGW( P,Q):\n",
    "    n = len(P)\n",
    "    l = (n-1)//2\n",
    "    F = []\n",
    "    G = []\n",
    "    H = []\n",
    "    R, x = QQ['x'].objgen()\n",
    "    for i in range (0,n):\n",
    "        f = Integer(P[i])\n",
    "        g = Integer(Q[i])\n",
    "        h = 0\n",
    "        for k in range (1,l+1):\n",
    "            f = f + randint(1,10) * x**k\n",
    "            g = g + randint(1,10) * x**k\n",
    "        for j in range(1,2*l + 1):\n",
    "            h = h + randint(1,10) * x**j\n",
    "        F.append(f)\n",
    "        G.append(g)\n",
    "        H.append(h)\n",
    "    print(F, G, H)\n",
    "    \n",
    "    coor = []\n",
    "    for r in range (0,n):\n",
    "        a = 0\n",
    "        b = 0\n",
    "        c = Integer(0)\n",
    "        for s in range (0,n):\n",
    "            a = a + Integer(F[s](r+1))\n",
    "            b = b + Integer(G[s](r+1))\n",
    "            c = c + Integer(H[s](r+1))\n",
    "        coor.append((a*b+c))\n",
    "    R = PolynomialRing(QQ, 'x')\n",
    "    K = R.lagrange_polynomial([(1,coor[0]),(2,coor[1]),(3,coor[2])])\n",
    "    return K"
   ]
  },
  {
   "cell_type": "code",
   "execution_count": 259,
   "metadata": {
    "scrolled": false
   },
   "outputs": [
    {
     "name": "stdout",
     "output_type": "stream",
     "text": [
      "[10*x + 3, 9*x + 4, 10*x + 8, 5*x + 16] [4*x + 11, 2*x + 16, 2*x + 8, 9*x + 12] [5*x^2 + 8*x, 7*x^2 + 4*x, 7*x^2 + 4*x, 6*x^2 + 8*x]\n"
     ]
    },
    {
     "data": {
      "text/plain": [
       "603*x^2 + 2149*x + 1457"
      ]
     },
     "execution_count": 259,
     "metadata": {},
     "output_type": "execute_result"
    }
   ],
   "source": [
    "BGW([3,4,8,16], [11,16,8,12])"
   ]
  },
  {
   "cell_type": "code",
   "execution_count": 258,
   "metadata": {},
   "outputs": [
    {
     "data": {
      "text/plain": [
       "1457"
      ]
     },
     "execution_count": 258,
     "metadata": {},
     "output_type": "execute_result"
    }
   ],
   "source": [
    "31*47"
   ]
  },
  {
   "cell_type": "code",
   "execution_count": 132,
   "metadata": {},
   "outputs": [
    {
     "data": {
      "text/plain": [
       "1428"
      ]
     },
     "execution_count": 132,
     "metadata": {},
     "output_type": "execute_result"
    }
   ],
   "source": [
    "2^((31*47-3-11+1)/4) % (31*47)"
   ]
  },
  {
   "cell_type": "code",
   "execution_count": 131,
   "metadata": {},
   "outputs": [],
   "source": [
    "#######Distributed Primality Test###########"
   ]
  },
  {
   "cell_type": "code",
   "execution_count": 42,
   "metadata": {},
   "outputs": [
    {
     "data": {
      "text/plain": [
       "683"
      ]
     },
     "execution_count": 42,
     "metadata": {},
     "output_type": "execute_result"
    }
   ],
   "source": [
    "2^((-4-16)/4) % (31*47)"
   ]
  },
  {
   "cell_type": "code",
   "execution_count": 43,
   "metadata": {},
   "outputs": [
    {
     "data": {
      "text/plain": [
       "1366"
      ]
     },
     "execution_count": 43,
     "metadata": {},
     "output_type": "execute_result"
    }
   ],
   "source": [
    "2^((-8-8)/4) % (31*47)"
   ]
  },
  {
   "cell_type": "code",
   "execution_count": 44,
   "metadata": {},
   "outputs": [
    {
     "data": {
      "text/plain": [
       "535"
      ]
     },
     "execution_count": 44,
     "metadata": {},
     "output_type": "execute_result"
    }
   ],
   "source": [
    "2^((-16-12)/4) % (31*47)"
   ]
  },
  {
   "cell_type": "code",
   "execution_count": 45,
   "metadata": {},
   "outputs": [
    {
     "data": {
      "text/plain": [
       "1"
      ]
     },
     "execution_count": 45,
     "metadata": {},
     "output_type": "execute_result"
    }
   ],
   "source": [
    "(1428*683*1366*535) % (31*47)"
   ]
  },
  {
   "cell_type": "code",
   "execution_count": null,
   "metadata": {},
   "outputs": [],
   "source": [
    "##########istributed Primality Test###########"
   ]
  }
 ],
 "metadata": {
  "kernelspec": {
   "display_name": "SageMath 9.1",
   "language": "sage",
   "name": "sagemath"
  },
  "language_info": {
   "codemirror_mode": {
    "name": "ipython",
    "version": 3
   },
   "file_extension": ".py",
   "mimetype": "text/x-python",
   "name": "python",
   "nbconvert_exporter": "python",
   "pygments_lexer": "ipython3",
   "version": "3.7.3"
  }
 },
 "nbformat": 4,
 "nbformat_minor": 2
}
